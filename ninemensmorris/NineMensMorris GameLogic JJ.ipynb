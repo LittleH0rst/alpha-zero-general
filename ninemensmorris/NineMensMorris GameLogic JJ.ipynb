{
 "cells": [
  {
   "cell_type": "code",
   "execution_count": null,
   "id": "6e205b2f",
   "metadata": {},
   "outputs": [],
   "source": [
    "class MorrisGame(Game):\n",
    "    square_content: = {\n",
    "        -1: \"B\"\n",
    "        +0: \"-\"\n",
    "        +1: \"W\"\n",
    "    }\n",
    "        \n",
    "    @staticmethod\n",
    "    def getSquarePiece(piece):\n",
    "        return MorrisGame.square_content[piece]\n",
    "\n",
    "    #wertebereich 0-2\n",
    "    ring\n",
    "    #wertebereich 0-7\n",
    "    cell\n",
    "    #Tupel in der Form von (ring, cell)\n",
    "    position\n",
    "    \n"
   ]
  }
 ],
 "metadata": {
  "kernelspec": {
   "display_name": "Python 3 (ipykernel)",
   "language": "python",
   "name": "python3"
  },
  "language_info": {
   "codemirror_mode": {
    "name": "ipython",
    "version": 3
   },
   "file_extension": ".py",
   "mimetype": "text/x-python",
   "name": "python",
   "nbconvert_exporter": "python",
   "pygments_lexer": "ipython3",
   "version": "3.10.9"
  }
 },
 "nbformat": 4,
 "nbformat_minor": 5
}
